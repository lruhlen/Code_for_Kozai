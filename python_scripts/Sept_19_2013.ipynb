{
 "metadata": {
  "name": ""
 },
 "nbformat": 3,
 "nbformat_minor": 0,
 "worksheets": [
  {
   "cells": [
    {
     "cell_type": "markdown",
     "metadata": {},
     "source": [
      "#September 19, 2013"
     ]
    },
    {
     "cell_type": "markdown",
     "metadata": {},
     "source": [
      "##Setting up the Amazon EC2 cluster\n",
      "+ Collect existing Amazon cloud computing info\n",
      " - Check that my Amazon cloud computing account is still valid (i.e., running off the correct/working/current credit card account)\n",
      " - Find my Amazon cluster rsa keypair info/stuff/config files.\n",
      "+ Follow the StarCluster instructions to set up a test cluster\n",
      " - First, with their default 'small-cluster'\n",
      " - Then, with a bigger cluster (w/ more nodes)\n",
      "   - For now, it may be enough to set up one VM with 16 cores, rather than a full-on cluster.  Figure out if that's the case (?).\n",
      " - Set up an EBS memory volume to hold the fortran/python codes I'll want to run remotely on those machines.\n",
      "   - Figure out what the pricing for that is.\n",
      "   - Make sure I understand how to attach that volume to my cluster(s)\n",
      "+ Figure out if I need to compile the fortran code on all nodes, or only on the master node\n",
      "+ Figure out which fortran code(s) need to be on the cluster\n",
      "+ Package the fortran code(s) \n",
      " - Modify it to print out less info\n",
      "   - Get rid of 'iteration number' print outs\n",
      "   - Cut down on the 'model number' print outs\n",
      "+ Figure out which python scripts the remote cluster needs to run a batch of simulations\n",
      " - batch_commands.py (to run the parallelized-ish code... though may need to switch over to a different parallelization package if I decide not to just run a single 16-core VM.)\n",
      " - parse_results.py (?)\n",
      "+ Figure out/write/test any additional software to send/receive inputs/results to the cluster"
     ]
    },
    {
     "cell_type": "markdown",
     "metadata": {},
     "source": [
      "\n",
      " "
     ]
    },
    {
     "cell_type": "code",
     "collapsed": false,
     "input": [],
     "language": "python",
     "metadata": {},
     "outputs": []
    }
   ],
   "metadata": {}
  }
 ]
}