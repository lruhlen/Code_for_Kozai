{
 "metadata": {
  "name": ""
 },
 "nbformat": 3,
 "nbformat_minor": 0,
 "worksheets": [
  {
   "cells": [
    {
     "cell_type": "markdown",
     "metadata": {},
     "source": [
      "# Month Day, Year"
     ]
    },
    {
     "cell_type": "markdown",
     "metadata": {},
     "source": [
      "###From last time:\n",
      "\n",
      " + some stuff\n",
      "\n",
      "###Today, want to:\n",
      "\n",
      " + some other stuff\n",
      "\n",
      "---"
     ]
    },
    {
     "cell_type": "code",
     "collapsed": true,
     "input": [
      "run quickstart.py"
     ],
     "language": "python",
     "metadata": {},
     "outputs": [],
     "prompt_number": "*"
    },
    {
     "cell_type": "code",
     "collapsed": true,
     "input": [
      "data=search_index()"
     ],
     "language": "python",
     "metadata": {},
     "outputs": [],
     "prompt_number": "*"
    },
    {
     "cell_type": "code",
     "collapsed": false,
     "input": [],
     "language": "python",
     "metadata": {},
     "outputs": []
    }
   ],
   "metadata": {}
  }
 ]
}